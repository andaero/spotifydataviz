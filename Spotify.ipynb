{
 "cells": [
  {
   "cell_type": "code",
   "execution_count": 1,
   "id": "f2bb0027aefb7a02",
   "metadata": {
    "ExecuteTime": {
     "end_time": "2023-11-28T20:43:35.999201Z",
     "start_time": "2023-11-28T20:43:35.155346Z"
    },
    "collapsed": false
   },
   "outputs": [],
   "source": [
    "import pandas\n",
    "import os\n",
    "import numpy as np\n"
   ]
  },
  {
   "cell_type": "code",
   "execution_count": 2,
   "id": "f38bfcedfb19174c",
   "metadata": {
    "ExecuteTime": {
     "end_time": "2023-11-28T20:45:56.028301Z",
     "start_time": "2023-11-28T20:45:56.015837Z"
    },
    "collapsed": false
   },
   "outputs": [
    {
     "name": "stdout",
     "output_type": "stream",
     "text": [
      "                              track_name      artist(s)_name  artist_count  \\\n",
      "0    Seven (feat. Latto) (Explicit Ver.)    Latto, Jung Kook             2   \n",
      "1                                   LALA         Myke Towers             1   \n",
      "2                                vampire      Olivia Rodrigo             1   \n",
      "3                           Cruel Summer        Taylor Swift             1   \n",
      "4                         WHERE SHE GOES           Bad Bunny             1   \n",
      "..                                   ...                 ...           ...   \n",
      "948                         My Mind & Me        Selena Gomez             1   \n",
      "949            Bigger Than The Whole Sky        Taylor Swift             1   \n",
      "950                 A Veces (feat. Feid)  Feid, Paulo Londra             2   \n",
      "951                        En La De Ella  Feid, Sech, Jhayco             3   \n",
      "952                                Alone           Burna Boy             1   \n",
      "\n",
      "     released_year  released_month  released_day  in_spotify_playlists  \\\n",
      "0             2023               7            14                   553   \n",
      "1             2023               3            23                  1474   \n",
      "2             2023               6            30                  1397   \n",
      "3             2019               8            23                  7858   \n",
      "4             2023               5            18                  3133   \n",
      "..             ...             ...           ...                   ...   \n",
      "948           2022              11             3                   953   \n",
      "949           2022              10            21                  1180   \n",
      "950           2022              11             3                   573   \n",
      "951           2022              10            20                  1320   \n",
      "952           2022              11             4                   782   \n",
      "\n",
      "     in_spotify_charts    streams  in_apple_playlists  ...  bpm key   mode  \\\n",
      "0                  147  141381703                  43  ...  125   B  Major   \n",
      "1                   48  133716286                  48  ...   92  C#  Major   \n",
      "2                  113  140003974                  94  ...  138   F  Major   \n",
      "3                  100  800840817                 116  ...  170   A  Major   \n",
      "4                   50  303236322                  84  ...  144   A  Minor   \n",
      "..                 ...        ...                 ...  ...  ...  ..    ...   \n",
      "948                  0   91473363                  61  ...  144   A  Major   \n",
      "949                  0  121871870                   4  ...  166  F#  Major   \n",
      "950                  0   73513683                   2  ...   92  C#  Major   \n",
      "951                  0  133895612                  29  ...   97  C#  Major   \n",
      "952                  2   96007391                  27  ...   90   E  Minor   \n",
      "\n",
      "    danceability_%  valence_% energy_% acousticness_%  instrumentalness_%  \\\n",
      "0               80         89       83             31                   0   \n",
      "1               71         61       74              7                   0   \n",
      "2               51         32       53             17                   0   \n",
      "3               55         58       72             11                   0   \n",
      "4               65         23       80             14                  63   \n",
      "..             ...        ...      ...            ...                 ...   \n",
      "948             60         24       39             57                   0   \n",
      "949             42          7       24             83                   1   \n",
      "950             80         81       67              4                   0   \n",
      "951             82         67       77              8                   0   \n",
      "952             61         32       67             15                   0   \n",
      "\n",
      "     liveness_%  speechiness_%  \n",
      "0             8              4  \n",
      "1            10              4  \n",
      "2            31              6  \n",
      "3            11             15  \n",
      "4            11              6  \n",
      "..          ...            ...  \n",
      "948           8              3  \n",
      "949          12              6  \n",
      "950           8              6  \n",
      "951          12              5  \n",
      "952          11              5  \n",
      "\n",
      "[953 rows x 24 columns]\n"
     ]
    }
   ],
   "source": [
    "# import in our data\n",
    "df = pandas.read_csv(\"Spotify2023.csv\",  encoding='latin-1')\n",
    "print(df)"
   ]
  },
  {
   "cell_type": "markdown",
   "id": "1da9b2deeb1876c1",
   "metadata": {
    "collapsed": false
   },
   "source": []
  },
  {
   "cell_type": "code",
   "execution_count": null,
   "id": "ca3b26fb0f6a9a98",
   "metadata": {
    "ExecuteTime": {
     "end_time": "2023-11-28T20:45:52.935785Z",
     "start_time": "2023-11-28T20:45:52.923094Z"
    },
    "collapsed": false
   },
   "outputs": [],
   "source": []
  },
  {
   "cell_type": "code",
   "execution_count": null,
   "id": "b7bae6f77489b06c",
   "metadata": {
    "collapsed": false
   },
   "outputs": [],
   "source": []
  },
  {
   "cell_type": "code",
   "execution_count": null,
   "id": "36650ba83f6e356b",
   "metadata": {
    "collapsed": false
   },
   "outputs": [],
   "source": []
  }
 ],
 "metadata": {
  "kernelspec": {
   "display_name": "Python 3",
   "language": "python",
   "name": "python3"
  },
  "language_info": {
   "codemirror_mode": {
    "name": "ipython",
    "version": 3
   },
   "file_extension": ".py",
   "mimetype": "text/x-python",
   "name": "python",
   "nbconvert_exporter": "python",
   "pygments_lexer": "ipython3",
   "version": "3.9.10"
  }
 },
 "nbformat": 4,
 "nbformat_minor": 5
}

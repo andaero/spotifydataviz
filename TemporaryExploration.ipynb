{
 "cells": [
  {
   "cell_type": "code",
   "execution_count": 31,
   "metadata": {},
   "outputs": [],
   "source": [
    "import pandas\n",
    "import os\n",
    "import numpy as np\n",
    "import seaborn as sns\n",
    "import matplotlib.pyplot as plt"
   ]
  },
  {
   "cell_type": "code",
   "execution_count": 32,
   "metadata": {},
   "outputs": [
    {
     "name": "stdout",
     "output_type": "stream",
     "text": [
      "                              track_name      artist(s)_name  artist_count  \\\n",
      "0    Seven (feat. Latto) (Explicit Ver.)    Latto, Jung Kook             2   \n",
      "1                                   LALA         Myke Towers             1   \n",
      "2                                vampire      Olivia Rodrigo             1   \n",
      "3                           Cruel Summer        Taylor Swift             1   \n",
      "4                         WHERE SHE GOES           Bad Bunny             1   \n",
      "..                                   ...                 ...           ...   \n",
      "948                         My Mind & Me        Selena Gomez             1   \n",
      "949            Bigger Than The Whole Sky        Taylor Swift             1   \n",
      "950                 A Veces (feat. Feid)  Feid, Paulo Londra             2   \n",
      "951                        En La De Ella  Feid, Sech, Jhayco             3   \n",
      "952                                Alone           Burna Boy             1   \n",
      "\n",
      "     released_year  released_month  released_day  in_spotify_playlists  \\\n",
      "0             2023               7            14                   553   \n",
      "1             2023               3            23                  1474   \n",
      "2             2023               6            30                  1397   \n",
      "3             2019               8            23                  7858   \n",
      "4             2023               5            18                  3133   \n",
      "..             ...             ...           ...                   ...   \n",
      "948           2022              11             3                   953   \n",
      "949           2022              10            21                  1180   \n",
      "950           2022              11             3                   573   \n",
      "951           2022              10            20                  1320   \n",
      "952           2022              11             4                   782   \n",
      "\n",
      "     in_spotify_charts    streams  in_apple_playlists  ...  bpm key   mode  \\\n",
      "0                  147  141381703                  43  ...  125   B  Major   \n",
      "1                   48  133716286                  48  ...   92  C#  Major   \n",
      "2                  113  140003974                  94  ...  138   F  Major   \n",
      "3                  100  800840817                 116  ...  170   A  Major   \n",
      "4                   50  303236322                  84  ...  144   A  Minor   \n",
      "..                 ...        ...                 ...  ...  ...  ..    ...   \n",
      "948                  0   91473363                  61  ...  144   A  Major   \n",
      "949                  0  121871870                   4  ...  166  F#  Major   \n",
      "950                  0   73513683                   2  ...   92  C#  Major   \n",
      "951                  0  133895612                  29  ...   97  C#  Major   \n",
      "952                  2   96007391                  27  ...   90   E  Minor   \n",
      "\n",
      "    danceability_%  valence_% energy_% acousticness_%  instrumentalness_%  \\\n",
      "0               80         89       83             31                   0   \n",
      "1               71         61       74              7                   0   \n",
      "2               51         32       53             17                   0   \n",
      "3               55         58       72             11                   0   \n",
      "4               65         23       80             14                  63   \n",
      "..             ...        ...      ...            ...                 ...   \n",
      "948             60         24       39             57                   0   \n",
      "949             42          7       24             83                   1   \n",
      "950             80         81       67              4                   0   \n",
      "951             82         67       77              8                   0   \n",
      "952             61         32       67             15                   0   \n",
      "\n",
      "     liveness_%  speechiness_%  \n",
      "0             8              4  \n",
      "1            10              4  \n",
      "2            31              6  \n",
      "3            11             15  \n",
      "4            11              6  \n",
      "..          ...            ...  \n",
      "948           8              3  \n",
      "949          12              6  \n",
      "950           8              6  \n",
      "951          12              5  \n",
      "952          11              5  \n",
      "\n",
      "[953 rows x 24 columns]\n"
     ]
    }
   ],
   "source": [
    "# import in our data\n",
    "df = pandas.read_csv(\"Spotify2023.csv\",  encoding='latin-1')\n",
    "print(df)"
   ]
  },
  {
   "cell_type": "code",
   "execution_count": 33,
   "metadata": {},
   "outputs": [],
   "source": [
    "# how to create released date\n",
    "\n",
    "meanValences = df\n",
    "\n",
    "# group released year and month into one column\n",
    "meanValences['released_year'] = meanValences['released_year'].astype(str)\n",
    "meanValences['released_month'] = meanValences['released_month'].astype(str)\n",
    "meanValences['released_day'] = meanValences['released_day'].astype(str)\n",
    "meanValences['released_date'] = meanValences['released_year'] + '.' + meanValences['released_month'] + '.' + meanValences['released_day']"
   ]
  },
  {
   "cell_type": "code",
   "execution_count": 37,
   "metadata": {},
   "outputs": [
    {
     "name": "stdout",
     "output_type": "stream",
     "text": [
      "   released_year  valence_%\n",
      "0           1930  49.000000\n",
      "1           1942  19.000000\n",
      "2           1946  22.000000\n",
      "3           1950  86.000000\n",
      "4           1952  81.000000\n",
      "5           1957  86.000000\n",
      "6           1958  83.666667\n",
      "7           1959  84.000000\n",
      "8           1963  65.000000\n",
      "9           1968  76.000000\n",
      "10          1970  85.500000\n",
      "11          1971  39.000000\n",
      "12          1973  24.000000\n",
      "13          1975  36.500000\n",
      "14          1979  74.000000\n",
      "15          1982  56.000000\n",
      "16          1983  73.000000\n",
      "17          1984  72.000000\n",
      "18          1985  37.000000\n",
      "19          1986  73.000000\n",
      "20          1987  67.000000\n",
      "21          1991  40.500000\n",
      "22          1992  12.000000\n",
      "23          1994  33.000000\n",
      "24          1995  58.000000\n",
      "25          1996  59.000000\n",
      "26          1997  75.000000\n",
      "27          1998  49.000000\n",
      "28          1999  45.200000\n",
      "29          2000  51.000000\n",
      "30          2002  41.166667\n",
      "31          2003  24.000000\n",
      "32          2004  46.750000\n",
      "33          2005  93.000000\n",
      "34          2007  20.000000\n",
      "35          2008  54.000000\n",
      "36          2010  45.428571\n",
      "37          2011  55.900000\n",
      "38          2012  49.300000\n",
      "39          2013  53.615385\n",
      "40          2014  47.538462\n",
      "41          2015  37.363636\n",
      "42          2016  45.444444\n",
      "43          2017  43.000000\n",
      "44          2018  36.200000\n",
      "45          2019  40.416667\n",
      "46          2020  51.027027\n",
      "47          2021  52.521008\n",
      "48          2022  51.490050\n",
      "49          2023  55.080000\n"
     ]
    },
    {
     "data": {
      "image/png": "[encoded data removed]",
      "text/plain": [
       "<Figure size 640x480 with 1 Axes>"
      ]
     },
     "metadata": {},
     "output_type": "display_data"
    }
   ],
   "source": [
    "# group song by released_year and released_month and get the mean of valence\n",
    "meanValences = df.groupby('released_year')['valence_%'].mean().reset_index()\n",
    "print(meanValences)\n",
    "\n",
    "#create a scatterlot between release year and valence\n",
    "fig, ax = plt.subplots()\n",
    "sns.scatterplot(data=meanValences, x=\"released_year\", y=\"valence_%\", ax=ax)\n",
    "\n",
    "#modify the sns scatterplot x axis label to only display every 5 years\n",
    "ax.set_xticks(ax.get_xticks()[::5])\n",
    "plt.show()"
   ]
  }
 ],
 "metadata": {
  "kernelspec": {
   "display_name": "Python 3",
   "language": "python",
   "name": "python3"
  },
  "language_info": {
   "codemirror_mode": {
    "name": "ipython",
    "version": 3
   },
   "file_extension": ".py",
   "mimetype": "text/x-python",
   "name": "python",
   "nbconvert_exporter": "python",
   "pygments_lexer": "ipython3",
   "version": "3.9.10"
  }
 },
 "nbformat": 4,
 "nbformat_minor": 2
}
